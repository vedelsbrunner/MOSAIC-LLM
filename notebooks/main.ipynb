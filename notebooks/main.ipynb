{
 "cells": [
  {
   "cell_type": "code",
   "metadata": {},
   "source": [
    "!pip install langchain_community\n",
    "!pip install langchain\n",
    "!pip install langchain-mistralai\n",
    "!pip install python-dotenv\n",
    "!pip install requests"
   ],
   "outputs": [],
   "execution_count": null
  },
  {
   "cell_type": "code",
   "metadata": {},
   "source": [
    "from langchain_mistralai import ChatMistralAI\n",
    "from langchain_core.prompts import ChatPromptTemplate\n",
    "from langchain_core.output_parsers import StrOutputParser\n",
    "from dotenv import load_dotenv\n",
    "import requests\n",
    "import json\n",
    "load_dotenv()"
   ],
   "outputs": [],
   "execution_count": null
  },
  {
   "cell_type": "code",
   "metadata": {},
   "source": [
    "## HELPERS\n",
    "\n",
    "def get_prompt_txt(prompt_path) -> str:\n",
    "    prompt_txt = \"\"\n",
    "    with open(\n",
    "        prompt_path, \"r\"\n",
    "    ) as f:\n",
    "        prompt_txt = f.read()  # has\n",
    "\n",
    "    \n",
    "    return prompt_txt\n",
    "\n"
   ],
   "outputs": [],
   "execution_count": null
  },
  {
   "cell_type": "code",
   "metadata": {},
   "source": [
    "model = ChatMistralAI(model=\"open-mixtral-8x7b\", temperature=0.7)\n",
    "output_parser = StrOutputParser()\n",
    "\n",
    "\n",
    "# QUERY Optimization\n",
    "query_optimization_prompt = get_prompt_txt(\"../prompts/query_optimization.txt\")\n",
    "\n",
    "optimization_prompt_template =  ChatPromptTemplate.from_messages(\n",
    "            [(\"human\", query_optimization_prompt)],\n",
    "        )\n",
    "optimization_chain = optimization_prompt_template | model | output_parser\n",
    "\n",
    "\n",
    "# Summarization\n",
    "\n",
    "res_summary_prompt = get_prompt_txt(\"../prompts/result_summarization.txt\")\n",
    "\n",
    "res_summary_prompt_template =  ChatPromptTemplate.from_messages(\n",
    "            [(\"human\", res_summary_prompt)],\n",
    "        )\n",
    "summarization_chain = res_summary_prompt_template | model | output_parser\n",
    "\n",
    "\n"
   ],
   "outputs": [],
   "execution_count": null
  },
  {
   "cell_type": "code",
   "metadata": {},
   "source": [
    "#1. optimize\n",
    "optimized_query = optimization_chain.invoke({\"q\": \"climate change\"})\n",
    "\n",
    "#2. Call MOSAIC with optimizes query\n",
    "optimized_query = \"What is the largest country in Europe?\"\n",
    "url = f\"https://qnode.eu/ows/mosaic/service/search?q={optimized_query}\"\n",
    "\n",
    "try:\n",
    "    response = requests.get(url)\n",
    "    response.raise_for_status()\n",
    "    json_response = response.json()\n",
    "    print(json.dumps(json_response, indent=4))\n",
    "except requests.exceptions.HTTPError as http_err: \n",
    "    print(f\"HTTP error occurred: {http_err}\") \n",
    "except Exception as err: \n",
    "    print(f\"Other error occurred: {err}\") \n",
    "\n",
    "\n",
    "#3. get MOSAIC REsults and feed it to summarization_chain\n",
    "\n",
    "\n"
   ],
   "outputs": [],
   "execution_count": null
  },
  {
   "metadata": {},
   "cell_type": "code",
   "source": "",
   "outputs": [],
   "execution_count": null
  },
  {
   "cell_type": "code",
   "metadata": {},
   "source": [],
   "outputs": [],
   "execution_count": null
  },
  {
   "cell_type": "code",
   "metadata": {},
   "source": [],
   "outputs": [],
   "execution_count": null
  }
 ],
 "metadata": {
  "kernelspec": {
   "display_name": "Python 3",
   "language": "python",
   "name": "python3"
  },
  "language_info": {
   "codemirror_mode": {
    "name": "ipython",
    "version": 3
   },
   "file_extension": ".py",
   "mimetype": "text/x-python",
   "name": "python",
   "nbconvert_exporter": "python",
   "pygments_lexer": "ipython3",
   "version": "3.11.2"
  }
 },
 "nbformat": 4,
 "nbformat_minor": 2
}
