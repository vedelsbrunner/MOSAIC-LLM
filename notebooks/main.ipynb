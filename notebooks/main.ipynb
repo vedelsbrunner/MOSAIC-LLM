{
 "cells": [
  {
   "cell_type": "code",
   "metadata": {},
   "source": [
    "!pip install langchain_community\n",
    "!pip install langchain\n",
    "!pip install langchain-mistralai\n",
    "!pip install python-dotenv"
   ],
   "outputs": [],
   "execution_count": null
  },
  {
   "cell_type": "code",
   "metadata": {
    "ExecuteTime": {
     "end_time": "2024-05-24T10:31:29.799752Z",
     "start_time": "2024-05-24T10:31:29.744319Z"
    }
   },
   "source": [
    "from langchain_mistralai import ChatMistralAI\n",
    "from langchain_core.prompts import ChatPromptTemplate\n",
    "from langchain_core.output_parsers import StrOutputParser\n",
    "from dotenv import load_dotenv\n",
    "load_dotenv()"
   ],
   "outputs": [
    {
     "data": {
      "text/plain": [
       "True"
      ]
     },
     "execution_count": 3,
     "metadata": {},
     "output_type": "execute_result"
    }
   ],
   "execution_count": 3
  },
  {
   "cell_type": "code",
   "metadata": {
    "ExecuteTime": {
     "end_time": "2024-05-24T10:31:29.815789Z",
     "start_time": "2024-05-24T10:31:29.803564Z"
    }
   },
   "source": [
    "## HELPERS\n",
    "\n",
    "def get_prompt_txt(prompt_path) -> str:\n",
    "    prompt_txt = \"\"\n",
    "    with open(\n",
    "        prompt_path, \"r\"\n",
    "    ) as f:\n",
    "        prompt_txt = f.read()  # has\n",
    "\n",
    "    \n",
    "    return prompt_txt\n",
    "\n"
   ],
   "outputs": [],
   "execution_count": 4
  },
  {
   "cell_type": "code",
   "metadata": {
    "ExecuteTime": {
     "end_time": "2024-05-24T10:31:30.078977Z",
     "start_time": "2024-05-24T10:31:29.826896Z"
    }
   },
   "source": [
    "model = ChatMistralAI(model=\"open-mixtral-8x7b\", temperature=0.7)\n",
    "output_parser = StrOutputParser()\n",
    "\n",
    "\n",
    "# QUERY Optimization\n",
    "query_optimization_prompt = get_prompt_txt(\"../prompts/query_optimization.txt\")\n",
    "\n",
    "optimization_prompt_template =  ChatPromptTemplate.from_messages(\n",
    "            [(\"human\", query_optimization_prompt)],\n",
    "        )\n",
    "optimization_chain = optimization_prompt_template | model | output_parser\n",
    "\n",
    "\n",
    "# Summarization\n",
    "\n",
    "res_summary_prompt = get_prompt_txt(\"../prompts/result_summarization.txt\")\n",
    "\n",
    "res_summary_prompt_template =  ChatPromptTemplate.from_messages(\n",
    "            [(\"human\", res_summary_prompt)],\n",
    "        )\n",
    "summarization_chain = res_summary_prompt_template | model | output_parser\n",
    "\n",
    "\n"
   ],
   "outputs": [],
   "execution_count": 5
  },
  {
   "cell_type": "code",
   "metadata": {
    "ExecuteTime": {
     "end_time": "2024-05-24T10:32:35.926914Z",
     "start_time": "2024-05-24T10:32:24.255290Z"
    }
   },
   "source": [
    "#1. optimize\n",
    "res = optimization_chain.invoke({\"q\": \"climate change\"})\n",
    "\n",
    "#2. call mosai with res\n",
    "\n",
    "\n",
    "#3. get MOSAIC REsults and feed it to summarization_chain\n",
    "\n",
    "\n"
   ],
   "outputs": [
    {
     "name": "stdout",
     "output_type": "stream",
     "text": [
      "Improving the climate change situation is a complex issue that requires action at the individual, community, and global levels. Here are some suggestions for ways to help improve the climate change situation:\n",
      "\n",
      "1. Reduce your carbon footprint: This can be achieved by using public transportation, biking, or walking instead of driving; using energy-efficient appliances and light bulbs; reducing, reusing, and recycling waste; and eating a plant-based diet or reducing your meat consumption.\n",
      "2. Support clean energy: You can switch to a green energy provider, invest in clean energy projects, or contact your elected officials to encourage the development and implementation of clean energy policies.\n",
      "3. Advocate for climate action: You can write to your elected officials, participate in climate marches and rallies, and engage in conversations with friends, family, and colleagues about the importance of addressing climate change.\n",
      "4. Educate yourself and others: Learn more about climate change and its causes, impacts, and solutions, and share this information with others through social media, blogs, and other platforms.\n",
      "5. Support organizations that are working on climate change: Consider donating to or volunteering with organizations that are working to address climate change and promote sustainable practices.\n",
      "\n",
      "By taking these and other actions, we can all help to improve the climate change situation and create a more sustainable future.\n"
     ]
    }
   ],
   "execution_count": 7
  },
  {
   "metadata": {
    "ExecuteTime": {
     "end_time": "2024-05-24T10:31:48.191432Z",
     "start_time": "2024-05-24T10:31:48.178179Z"
    }
   },
   "cell_type": "code",
   "source": "",
   "outputs": [],
   "execution_count": 6
  },
  {
   "cell_type": "code",
   "metadata": {
    "ExecuteTime": {
     "end_time": "2024-05-24T10:31:48.206325Z",
     "start_time": "2024-05-24T10:31:48.193758Z"
    }
   },
   "source": [],
   "outputs": [],
   "execution_count": 6
  },
  {
   "cell_type": "code",
   "metadata": {
    "ExecuteTime": {
     "end_time": "2024-05-24T10:31:48.222276Z",
     "start_time": "2024-05-24T10:31:48.209345Z"
    }
   },
   "source": [],
   "outputs": [],
   "execution_count": 6
  }
 ],
 "metadata": {
  "kernelspec": {
   "display_name": "Python 3",
   "language": "python",
   "name": "python3"
  },
  "language_info": {
   "codemirror_mode": {
    "name": "ipython",
    "version": 3
   },
   "file_extension": ".py",
   "mimetype": "text/x-python",
   "name": "python",
   "nbconvert_exporter": "python",
   "pygments_lexer": "ipython3",
   "version": "3.11.2"
  }
 },
 "nbformat": 4,
 "nbformat_minor": 2
}
