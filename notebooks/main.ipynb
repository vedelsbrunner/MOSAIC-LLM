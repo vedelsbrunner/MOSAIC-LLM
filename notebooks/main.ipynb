{
 "cells": [
  {
   "cell_type": "code",
   "execution_count": 2,
   "metadata": {},
   "outputs": [],
   "source": [
    "!pip install langchain_community\n",
    "!pip install langchain\n"
   ]
  },
  {
   "cell_type": "code",
   "execution_count": 16,
   "metadata": {},
   "outputs": [
    {
     "data": {
      "text/plain": [
       "True"
      ]
     },
     "execution_count": 16,
     "metadata": {},
     "output_type": "execute_result"
    }
   ],
   "source": [
    "from langchain_mistralai import ChatMistralAI\n",
    "from langchain_core.prompts import ChatPromptTemplate\n",
    "from langchain_core.output_parsers import StrOutputParser\n",
    "from dotenv import load_dotenv\n",
    "load_dotenv()"
   ]
  },
  {
   "cell_type": "code",
   "execution_count": 25,
   "metadata": {},
   "outputs": [],
   "source": [
    "## HELPERS\n",
    "\n",
    "def get_prompt_txt(prompt_path) -> str:\n",
    "    prompt_txt = \"\"\n",
    "    with open(\n",
    "        prompt_path, \"r\"\n",
    "    ) as f:\n",
    "        prompt_txt = f.read()  # has\n",
    "\n",
    "    \n",
    "    return prompt_txt\n",
    "\n"
   ]
  },
  {
   "cell_type": "code",
   "execution_count": 27,
   "metadata": {},
   "outputs": [],
   "source": [
    "model = ChatMistralAI(model=\"open-mixtral-8x7b\", temperature=0.7)\n",
    "output_parser = StrOutputParser()\n",
    "\n",
    "\n",
    "# QUERY Optimization\n",
    "query_optimization_prompt = get_prompt_txt(\"../prompts/query_optimization.txt\")\n",
    "\n",
    "optimization_prompt_template =  ChatPromptTemplate.from_messages(\n",
    "            [(\"human\", query_optimization_prompt)],\n",
    "        )\n",
    "optimization_chain = optimization_prompt_template | model | output_parser\n",
    "\n",
    "\n",
    "# Summarization\n",
    "\n",
    "res_summary_prompt = get_prompt_txt(\"../prompts/result_summarization.txt\")\n",
    "\n",
    "res_summary_prompt_template =  ChatPromptTemplate.from_messages(\n",
    "            [(\"human\", res_summary_prompt)],\n",
    "        )\n",
    "summarization_chain = res_summary_prompt_template | model | output_parser\n",
    "\n",
    "\n"
   ]
  },
  {
   "cell_type": "code",
   "execution_count": 28,
   "metadata": {},
   "outputs": [
    {
     "name": "stdout",
     "output_type": "stream",
     "text": [
      "Improving the climate change situation is a complex issue that requires the collective efforts of individuals, businesses, and governments around the world. Here are some ways to help improve the climate change situation:\n",
      "\n",
      "1. Reduce your carbon footprint: You can reduce your carbon footprint by using less energy, driving less, and choosing low-carbon transportation options such as walking, biking, or taking public transportation. You can also reduce your carbon footprint by eating less meat, choosing locally grown food, and reducing waste.\n",
      "2. Support renewable energy: You can support renewable energy by installing solar panels on your home, using wind power, or purchasing renewable energy credits. You can also support policies and politicians that promote renewable energy.\n",
      "3. Advocate for climate change policies: You can advocate for climate change policies by contacting your elected officials, signing petitions, and participating in rallies and demonstrations. You can also join or donate to organizations that are working to combat climate change.\n",
      "4. Educate yourself and others: Learning about climate change and sharing that knowledge with others is an important step in addressing the issue. You can educate yourself by reading articles, watching documentaries, and attending lectures or webinars. You can also share what you've learned with your friends, family, and colleagues.\n",
      "5. Invest in sustainable companies: You can invest in companies that are working to reduce their carbon emissions and promote sustainable practices. By investing in these companies, you can help support the transition to a low-carbon economy.\n",
      "6. Reduce, reuse, and recycle: Reducing your consumption of goods, reusing items whenever possible, and recycling can help reduce the amount of waste that ends up in landfills and incinerators, which are significant sources of greenhouse gas emissions.\n",
      "\n",
      "By taking these steps, you can help improve the climate change situation and reduce your impact on the environment. However, it's important to remember that addressing climate change requires collective action and systemic changes. It's up to all of us to work together to create a more sustainable future.\n"
     ]
    }
   ],
   "source": [
    "#1. optimize\n",
    "res = optimization_chain.invoke({\"q\": \"climate change\"})\n",
    "\n",
    "#2. call mosai with res\n",
    "\n",
    "\n",
    "#3. get MOSAIC REsults and feed it to summarization_chain\n",
    "\n",
    "\n"
   ]
  },
  {
   "cell_type": "code",
   "execution_count": 19,
   "metadata": {},
   "outputs": [],
   "source": []
  },
  {
   "cell_type": "code",
   "execution_count": 21,
   "metadata": {},
   "outputs": [
    {
     "name": "stdout",
     "output_type": "stream",
     "text": [
      "Sure, I'd be happy to help you improve your query about climate change! However, I'll need a bit more information about what you're looking for. Here are a few questions that might help us get started:\n",
      "\n",
      "* What is the specific topic or question you have about climate change?\n",
      "* Are you looking for information from scientific studies, news articles, opinions, or something else?\n",
      "* Do you have a preference for sources that are peer-reviewed, popular, or from a particular perspective (e.g. political, scientific, ethical)?\n",
      "* Are you interested in a particular aspect of climate change, such as its causes, impacts, or solutions?\n",
      "\n",
      "Once I have a better understanding of what you're looking for, I can help you craft a more specific and effective query. Here are a few general tips for improving your query:\n",
      "\n",
      "* Use specific keywords related to your topic, such as \"greenhouse gases,\" \"sea level rise,\" or \"renewable energy.\"\n",
      "* Use quotation marks to search for exact phrases, such as \"climate change denial\" or \"carbon footprint.\"\n",
      "* Use the \"-\" symbol to exclude certain words from your search, such as \"-conspiracy\" to exclude results about conspiracy theories related to climate change.\n",
      "* Use the \"site:\" operator to search within a specific website, such as \"site:nytimes.com climate change\" to find articles about climate change from the New York Times.\n",
      "* Use the \"OR\" operator to search for pages that may have just one of several words, such as \"climate change OR global warming.\"\n",
      "\n",
      "I hope these tips are helpful! Let me know if you have any other questions or if there's anything else I can do to assist you.\n"
     ]
    }
   ],
   "source": []
  },
  {
   "cell_type": "code",
   "execution_count": null,
   "metadata": {},
   "outputs": [],
   "source": []
  }
 ],
 "metadata": {
  "kernelspec": {
   "display_name": "Python 3",
   "language": "python",
   "name": "python3"
  },
  "language_info": {
   "codemirror_mode": {
    "name": "ipython",
    "version": 3
   },
   "file_extension": ".py",
   "mimetype": "text/x-python",
   "name": "python",
   "nbconvert_exporter": "python",
   "pygments_lexer": "ipython3",
   "version": "3.11.2"
  }
 },
 "nbformat": 4,
 "nbformat_minor": 2
}
