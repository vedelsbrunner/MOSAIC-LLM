{
 "cells": [
  {
   "cell_type": "code",
   "execution_count": 1,
   "metadata": {},
   "outputs": [],
   "source": [
    "!pip install .\n",
    "!pip show mosaic_llm"
   ]
  },
  {
   "cell_type": "code",
   "execution_count": null,
   "metadata": {
    "ExecuteTime": {
     "end_time": "2024-05-24T12:44:41.713861Z",
     "start_time": "2024-05-24T12:44:41.631257Z"
    }
   },
   "outputs": [],
   "source": [
    "# SAMPLE RUN\n",
    "from  mosaic_llm.mosaicllm import MosaicLLM  \n",
    "\n",
    "q= \"Apple\"\n",
    "mosaicllm = MosaicLLM(root=\"\")\n",
    "apple_query_result = mosaicllm.run(query=q)\n",
    "\n",
    "print(\"original query summary:\")\n",
    "print(apple_query_result.summary_query)\n",
    "\n",
    "print(\"\\nimproved query summary:\")\n",
    "print(apple_query_result.summary_clarified_query)\n",
    "\n",
    "print(\"\\nsubquery_1-3 summary:\")\n",
    "print(apple_query_result.summary_subqueries)"
   ]
  },
  {
   "cell_type": "code",
   "execution_count": 5,
   "metadata": {
    "ExecuteTime": {
     "end_time": "2024-05-24T12:37:23.382647Z",
     "start_time": "2024-05-24T12:37:23.369847Z"
    }
   },
   "outputs": [
    {
     "name": "stdout",
     "output_type": "stream",
     "text": [
      "querying Apple\n",
      "HTTP error occurred: 502 Server Error: Proxy Error for url: https://qnode.eu/ows/mosaic/service/search?q=Apple%20company%20headquarters?&index=demo-simplewiki&lang=en&limit=5\n",
      "exception in string indices must be integers, not 'str' for Apple\n",
      "querying Amazon\n",
      "HTTP error occurred: 502 Server Error: Proxy Error for url: https://qnode.eu/ows/mosaic/service/search?q=Amazon%20best-selling%20products?&index=demo-simplewiki&lang=en&limit=5\n",
      "exception in string indices must be integers, not 'str' for Amazon\n",
      "querying Climate\n"
     ]
    }
   ],
   "source": [
    "import os.path\n",
    "import pandas as pd\n",
    "\n",
    "def run_all_queries():\n",
    "    queries = pd.read_csv(\"data/queries.csv\", encoding=\"utf8\")\n",
    "    all_results=[]\n",
    "    out = \"data/mosaicllm_results.csv\"\n",
    "    if os.path.exists(out):\n",
    "        return pd.read_csv(out)\n",
    "    mosaicllm = MosaicLLM(root=\"\")\n",
    "    for _, row in queries.iterrows():\n",
    "        result = {}\n",
    "        try:\n",
    "            q = row[\"query\"]\n",
    "            print(f\"querying {q}\")\n",
    "            result = mosaicllm.run(query=q)\n",
    "            result[\"query\"] = q\n",
    "            all_results.append(result)\n",
    "        except Exception as e:\n",
    "            print(f\"exception in {e} for {q}\")\n",
    "    df = pd.DataFrame(all_results)\n",
    "    if len(df)>0:\n",
    "        df.to_csv(out)\n",
    "    return df\n",
    "\n",
    "df = run_all_queries()"
   ]
  },
  {
   "cell_type": "code",
   "execution_count": null,
   "metadata": {},
   "outputs": [],
   "source": []
  }
 ],
 "metadata": {
  "kernelspec": {
   "display_name": "Python 3",
   "language": "python",
   "name": "python3"
  },
  "language_info": {
   "codemirror_mode": {
    "name": "ipython",
    "version": 3
   },
   "file_extension": ".py",
   "mimetype": "text/x-python",
   "name": "python",
   "nbconvert_exporter": "python",
   "pygments_lexer": "ipython3",
   "version": "3.11.2"
  }
 },
 "nbformat": 4,
 "nbformat_minor": 2
}
