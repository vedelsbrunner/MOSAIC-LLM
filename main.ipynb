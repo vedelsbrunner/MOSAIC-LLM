{
 "cells": [
  {
   "cell_type": "code",
   "execution_count": null,
   "metadata": {},
   "outputs": [],
   "source": [
    "!pip install langchain_community\n",
    "!pip install langchain\n",
    "!pip install langchain-mistralai\n",
    "!pip install python-dotenv\n",
    "!pip install requests"
   ]
  },
  {
   "cell_type": "code",
   "execution_count": null,
   "metadata": {},
   "outputs": [],
   "source": [
    "from langchain_mistralai import ChatMistralAI\n",
    "from langchain_core.prompts import ChatPromptTemplate\n",
    "from langchain_core.output_parsers import StrOutputParser\n",
    "from dotenv import load_dotenv\n",
    "import requests\n",
    "import json\n",
    "load_dotenv()"
   ]
  },
  {
   "cell_type": "code",
   "execution_count": null,
   "metadata": {},
   "outputs": [],
   "source": [
    "## HELPERS\n",
    "\n",
    "def get_prompt_txt(prompt_path) -> str:\n",
    "    prompt_txt = \"\"\n",
    "    with open(\n",
    "        prompt_path, \"r\"\n",
    "    ) as f:\n",
    "        prompt_txt = f.read()  # has\n",
    "\n",
    "    \n",
    "    return prompt_txt\n",
    "\n"
   ]
  },
  {
   "cell_type": "code",
   "execution_count": null,
   "metadata": {},
   "outputs": [],
   "source": [
    "from tenacity import retry, stop_after_attempt, wait_fixed\n",
    "import ast\n",
    "import json\n",
    "\n",
    "model = ChatMistralAI(model=\"open-mixtral-8x7b\", temperature=0.7)\n",
    "output_parser = StrOutputParser()\n",
    "\n",
    "\n",
    "# QUERY Optimization\n",
    "query_optimization_prompt = get_prompt_txt(\"../prompts/query_optimization.txt\")\n",
    "\n",
    "optimization_prompt_template =  ChatPromptTemplate.from_messages(\n",
    "            [(\"human\", query_optimization_prompt)],\n",
    "        )\n",
    "optimization_chain = optimization_prompt_template | model | output_parser\n",
    "\n",
    "\n",
    "# Summarization\n",
    "\n",
    "res_summary_prompt = get_prompt_txt(\"../prompts/result_summarization.txt\")\n",
    "\n",
    "res_summary_prompt_template =  ChatPromptTemplate.from_messages(\n",
    "            [(\"human\", res_summary_prompt)],\n",
    "        )\n",
    "summarization_chain = res_summary_prompt_template | model | output_parser\n",
    "\n",
    "\n"
   ]
  },
  {
   "cell_type": "code",
   "execution_count": null,
   "metadata": {},
   "outputs": [],
   "source": [
    "#1. optimize\n",
    "@retry(stop=stop_after_attempt(10), wait=wait_fixed(1))\n",
    "def optimize_query(query: str) -> dict:\n",
    "    raw_asnwer = optimization_chain.invoke({\"q\": query})\n",
    "    \n",
    "    llm_answer = ast.literal_eval(raw_asnwer)\n",
    "    dict_ = json.loads(llm_answer) if isinstance(llm_answer, str) else llm_answer\n",
    "    return dict_\n",
    "\n",
    "\n",
    "#2. Call MOSAIC with optimizes query\n",
    "optimized_query = \"What is the largest country in Europe?\"\n",
    "url = f\"https://qnode.eu/ows/mosaic/service/search?q={optimized_query}\"\n",
    "\n",
    "try:\n",
    "    response = requests.get(url)\n",
    "    response.raise_for_status()\n",
    "    json_response = response.json()\n",
    "    print(json.dumps(json_response, indent=4))\n",
    "except requests.exceptions.HTTPError as http_err: \n",
    "    print(f\"HTTP error occurred: {http_err}\") \n",
    "except Exception as err: \n",
    "    print(f\"Other error occurred: {err}\") \n",
    "\n",
    "\n",
    "#3. get MOSAIC REsults and feed it to summarization_chain\n",
    "\n",
    "\n"
   ]
  },
  {
   "cell_type": "code",
   "execution_count": null,
   "metadata": {},
   "outputs": [],
   "source": [
    "\n",
    "\n",
    " \n",
    " #1. optimize\n",
    "query_optimized = optimize_query(\"climate change\")\n",
    "query_optimized\n",
    "\n",
    "results = {}\n",
    "results[\"clarified_query\"] = []# search_mosaic(query=query_optimized[\"clarified_query\"])\n",
    "for i, suggested_queries in enumerate(query_optimized['subqueries']):\n",
    "    results[f\"subquery_{i}\"] = []# search_mosaic(query=suggested_queries)\n",
    "\n",
    "\n",
    "#2. call mosai with res\n",
    "\n",
    "\n",
    "#3. get MOSAIC REsults and feed it to summarization_chain\n",
    "\n"
   ]
  },
  {
   "cell_type": "code",
   "execution_count": 18,
   "metadata": {},
   "outputs": [
    {
     "ename": "SyntaxError",
     "evalue": "invalid syntax (2334311790.py, line 1)",
     "output_type": "error",
     "traceback": [
      "\u001b[1;36m  Cell \u001b[1;32mIn[18], line 1\u001b[1;36m\u001b[0m\n\u001b[1;33m    import .mosaic_llm\u001b[0m\n\u001b[1;37m           ^\u001b[0m\n\u001b[1;31mSyntaxError\u001b[0m\u001b[1;31m:\u001b[0m invalid syntax\n"
     ]
    }
   ],
   "source": []
  },
  {
   "cell_type": "code",
   "execution_count": null,
   "metadata": {},
   "outputs": [],
   "source": []
  }
 ],
 "metadata": {
  "kernelspec": {
   "display_name": "Python 3",
   "language": "python",
   "name": "python3"
  },
  "language_info": {
   "codemirror_mode": {
    "name": "ipython",
    "version": 3
   },
   "file_extension": ".py",
   "mimetype": "text/x-python",
   "name": "python",
   "nbconvert_exporter": "python",
   "pygments_lexer": "ipython3",
   "version": "3.11.2"
  }
 },
 "nbformat": 4,
 "nbformat_minor": 2
}
