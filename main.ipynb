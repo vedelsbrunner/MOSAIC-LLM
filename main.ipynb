{
 "cells": [
  {
   "cell_type": "code",
   "execution_count": 3,
   "metadata": {},
   "outputs": [
    {
     "name": "stdout",
     "output_type": "stream",
     "text": [
      "Name: mosaic_llm\n",
      "Version: 0.1.1\n",
      "Summary: The main goal of this code is to use Zero-shot LLM to improve/Expand user query, fetch search results using MOSAIC RESTAPI and then summarize the snippets using also Zero-shot prompting.\n",
      "Home-page: \n",
      "Author: \n",
      "Author-email: Roxanne El Baff <roxanne.elbaff@gmail.com>, Valentin <v.edelsbrunner@protonmail.com>\n",
      "License: \n",
      "Location: C:\\Users\\elba_ro\\.pyenv\\pyenv-win\\versions\\3.11.2\\Lib\\site-packages\n",
      "Requires: langchain, langchain-mistralai, langchain_community, pandas, python-dotenv, requests, tqdm\n",
      "Required-by: \n"
     ]
    }
   ],
   "source": [
    "#!pip install .\n",
    "!pip show mosaic_llm"
   ]
  },
  {
   "cell_type": "code",
   "execution_count": 6,
   "metadata": {
    "ExecuteTime": {
     "end_time": "2024-05-24T12:44:41.713861Z",
     "start_time": "2024-05-24T12:44:41.631257Z"
    }
   },
   "outputs": [
    {
     "name": "stdout",
     "output_type": "stream",
     "text": [
      "original query summary:\n",
      "The snippet mentions Apple in the context of its annual Worldwide Developers Conference (WWDC), where the company showcased new features for its operating systems, including iOS 16, iPadOS 16, macOS 13, and watchOS 9. The updates include improvements to the lock screen, notification system, and health tracking capabilities, as well as new features for developers. The conference also featured updates on Apple's augmented reality and virtual reality initiatives, including the announcement of the realityOS, a new operating system for AR/VR headsets.\n",
      "\n",
      "improved query summary:\n",
      "The text snippets provide information about Apple Inc., a multinational technology company headquartered in Cupertino, California. The company is known for designing, manufacturing, and marketing consumer electronics, computer software, and online services. Its most popular products include the iPhone smartphone, the iPad tablet computer, the Mac personal computer, the iPod portable media player, the Apple Watch smartwatch, the Apple TV digital media player, the AirPods wireless earbuds, and the HomePod smart speaker. Apple's software includes iOS, iPadOS, macOS, watchOS, and tvOS operating systems, the iTunes media player, the Safari web browser, the Shazam music identifier, and the iLife and iWork creativity and productivity suites, as well as professional applications like Final Cut Pro, Logic Pro, and Xcode. The company's online services include the iTunes Store, the iOS App Store, the Mac App Store, the Apple Music streaming service, the Apple TV+ video streaming service, the Apple Arcade gaming subscription service, the Apple News+ news subscription service, the Apple Card credit card, and the Apple Pay mobile payment service. Apple's revenue for the fiscal year 2020 was $274.5 billion, making it the world's largest technology company by revenue and the world's second-largest smartphone manufacturer after Samsung Electronics.\n",
      "\n",
      "subquery_1-3 summary:\n",
      "The search results focus on Apple Inc., a multinational technology company. Apple's products, such as the iPhone, iPad, Mac computers, and Apple Watch, are renowned for their design and innovation. The company's CEO is Tim Cook, who took over from Steve Jobs in 2011. Apple's headquarters, Apple Park, is a spaceship-shaped campus located in Cupertino, California, and is a symbol of the company's focus on design and sustainability.\n"
     ]
    }
   ],
   "source": [
    "# SAMPLE RUN\n",
    "from  mosaic_llm.mosaicllm import MosaicLLM  \n",
    "\n",
    "q= \"Apple\"\n",
    "mosaicllm = MosaicLLM(root=\"\")\n",
    "apple_query_result = mosaicllm.run(query=q)\n",
    "\n",
    "print(\"original query summary:\")\n",
    "print(apple_query_result['summary_query'])\n",
    "\n",
    "print(\"\\nimproved query summary:\")\n",
    "print(apple_query_result['summary_clarified_query'])\n",
    "\n",
    "print(\"\\nsubquery_1-3 summary:\")\n",
    "print(apple_query_result['summary_subqueries'])"
   ]
  },
  {
   "cell_type": "code",
   "execution_count": 5,
   "metadata": {},
   "outputs": [
    {
     "data": {
      "text/plain": [
       "dict_keys(['rationale', 'clarified_query', 'subqueries', 'prompt_query_summary', 'summary_query', 'prompt_clarified_query_summary', 'summary_clarified_query', 'prompt_subqueries', 'summary_subqueries'])"
      ]
     },
     "execution_count": 5,
     "metadata": {},
     "output_type": "execute_result"
    }
   ],
   "source": [
    "apple_query_result.keys()"
   ]
  },
  {
   "cell_type": "code",
   "execution_count": null,
   "metadata": {
    "ExecuteTime": {
     "end_time": "2024-05-24T12:37:23.382647Z",
     "start_time": "2024-05-24T12:37:23.369847Z"
    }
   },
   "outputs": [],
   "source": [
    "import os.path\n",
    "import pandas as pd\n",
    "\n",
    "def run_all_queries():\n",
    "    queries = pd.read_csv(\"data/queries.csv\", encoding=\"utf8\")\n",
    "    all_results=[]\n",
    "    out = \"data/mosaicllm_results.csv\"\n",
    "    if os.path.exists(out):\n",
    "        return pd.read_csv(out)\n",
    "    mosaicllm = MosaicLLM(root=\"\")\n",
    "    for _, row in queries.iterrows():\n",
    "        result = {}\n",
    "        try:\n",
    "            q = row[\"query\"]\n",
    "            print(f\"querying {q}\")\n",
    "            result = mosaicllm.run(query=q)\n",
    "            result[\"query\"] = q\n",
    "            all_results.append(result)\n",
    "        except Exception as e:\n",
    "            print(f\"exception in {e} for {q}\")\n",
    "    df = pd.DataFrame(all_results)\n",
    "    if len(df)>0:\n",
    "        df.to_csv(out)\n",
    "    return df\n",
    "\n",
    "df = run_all_queries()"
   ]
  },
  {
   "cell_type": "code",
   "execution_count": null,
   "metadata": {},
   "outputs": [],
   "source": []
  }
 ],
 "metadata": {
  "kernelspec": {
   "display_name": "Python 3",
   "language": "python",
   "name": "python3"
  },
  "language_info": {
   "codemirror_mode": {
    "name": "ipython",
    "version": 3
   },
   "file_extension": ".py",
   "mimetype": "text/x-python",
   "name": "python",
   "nbconvert_exporter": "python",
   "pygments_lexer": "ipython3",
   "version": "3.11.2"
  }
 },
 "nbformat": 4,
 "nbformat_minor": 2
}
