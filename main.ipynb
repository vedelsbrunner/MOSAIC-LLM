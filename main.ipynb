{
 "cells": [
  {
   "cell_type": "code",
   "execution_count": null,
   "metadata": {
    "ExecuteTime": {
     "end_time": "2024-05-24T12:37:10.062449Z",
     "start_time": "2024-05-24T12:36:50.168816Z"
    }
   },
   "outputs": [],
   "source": [
    "# !pip install langchain_community\n",
    "# !pip install langchain\n",
    "# !pip install langchain-mistralai\n",
    "# !pip install python-dotenv\n",
    "# !pip install requests"
   ]
  },
  {
   "cell_type": "code",
   "execution_count": 1,
   "metadata": {
    "ExecuteTime": {
     "end_time": "2024-05-24T12:44:39.696842Z",
     "start_time": "2024-05-24T12:44:39.657246Z"
    }
   },
   "outputs": [
    {
     "data": {
      "text/plain": [
       "<module 'mosaic_llm.mosaicllm' from 'c:\\\\Users\\\\elba_ro\\\\Documents\\\\projects\\\\github\\\\MOSAIC-LLM\\\\mosaic_llm\\\\mosaicllm.py'>"
      ]
     },
     "execution_count": 1,
     "metadata": {},
     "output_type": "execute_result"
    }
   ],
   "source": [
    "from  mosaic_llm.mosaicllm import MosaicLLM\n",
    "import mosaic_llm\n",
    "import importlib\n",
    "importlib.reload(mosaic_llm.mosaicllm)"
   ]
  },
  {
   "cell_type": "code",
   "execution_count": 6,
   "metadata": {
    "ExecuteTime": {
     "end_time": "2024-05-24T12:44:41.713861Z",
     "start_time": "2024-05-24T12:44:41.631257Z"
    }
   },
   "outputs": [],
   "source": [
    "mosaicllm = MosaicLLM(root=\"\")"
   ]
  },
  {
   "cell_type": "code",
   "execution_count": null,
   "metadata": {
    "jupyter": {
     "is_executing": true
    }
   },
   "outputs": [],
   "source": []
  },
  {
   "cell_type": "code",
   "execution_count": 7,
   "metadata": {
    "ExecuteTime": {
     "end_time": "2024-05-24T12:37:23.382647Z",
     "start_time": "2024-05-24T12:37:23.369847Z"
    }
   },
   "outputs": [
    {
     "name": "stdout",
     "output_type": "stream",
     "text": [
      "querying Apple\n",
      "querying Amazon\n",
      "querying Climate\n"
     ]
    }
   ],
   "source": [
    "import pandas as pd\n",
    "queries = pd.read_csv(\"data/queries.csv\")\n",
    "all_results = []\n",
    "\n",
    "count = 0\n",
    "for _, row in queries.iterrows():\n",
    "    result = {}\n",
    "    \n",
    "    q = row[\"query\"]\n",
    "    result[\"query\"] = q\n",
    "    print(f\"querying {q}\")\n",
    "    result = mosaicllm.run(query=q)\n",
    "    all_results.append(result)\n",
    "    count = count +1\n",
    "    if count>2:\n",
    "        break"
   ]
  },
  {
   "cell_type": "code",
   "execution_count": 10,
   "metadata": {},
   "outputs": [
    {
     "data": {
      "text/plain": [
       "'The Apple T1 is a chip developed by Apple, derived from the Apple S2. Apple Inc. also produces the Apple Pencil, a wireless stylus pen accessory used with supported iPad tablets. Unrelated to Apple Inc., a pond-apple is a type of fruit that is not associated with the tech company or its products.'"
      ]
     },
     "execution_count": 10,
     "metadata": {},
     "output_type": "execute_result"
    }
   ],
   "source": [
    "df = pd.DataFrame(all_results)\n",
    "df.iloc[1].summary_clarified_query"
   ]
  },
  {
   "cell_type": "code",
   "execution_count": 11,
   "metadata": {},
   "outputs": [
    {
     "data": {
      "text/plain": [
       "'The focus is on Apple. Apples are a type of pome fruit, which also includes pears, and grow on trees. They are in the same family as quinces. In the technology context, an applet is a computer program, often written in Java, that can be run in a web browser. In a different setting, the iodine test uses iodine as a chemical indicator to detect starch, and is used in various applications such as brewing beer and determining apple ripeness. In Greek mythology, Ladon is a dragon who guarded the golden apples in the Garden of the Hesperides.'"
      ]
     },
     "execution_count": 11,
     "metadata": {},
     "output_type": "execute_result"
    }
   ],
   "source": [
    "df.iloc[0].summary_query"
   ]
  },
  {
   "cell_type": "code",
   "execution_count": 12,
   "metadata": {},
   "outputs": [
    {
     "data": {
      "text/plain": [
       "'Apple Inc. is an American company that produces personal computers, including the Apple Macintosh, and the Apple I, which was their first official product. Apple also offers the Apple Pencil, a wireless stylus pen accessory for use with supported iPad tablets. The Macintosh was one of the first computers to incorporate a graphical user interface, allowing users to point and click on icons using a mouse. Under the leadership of Steve Jobs, Apple Inc. has become a successful technology company, but specific financial performance details are not provided in the text snippets.'"
      ]
     },
     "execution_count": 12,
     "metadata": {},
     "output_type": "execute_result"
    }
   ],
   "source": [
    "df.iloc[0].summary_subqueries"
   ]
  },
  {
   "cell_type": "code",
   "execution_count": null,
   "metadata": {},
   "outputs": [],
   "source": []
  }
 ],
 "metadata": {
  "kernelspec": {
   "display_name": "Python 3",
   "language": "python",
   "name": "python3"
  },
  "language_info": {
   "codemirror_mode": {
    "name": "ipython",
    "version": 3
   },
   "file_extension": ".py",
   "mimetype": "text/x-python",
   "name": "python",
   "nbconvert_exporter": "python",
   "pygments_lexer": "ipython3",
   "version": "3.11.2"
  }
 },
 "nbformat": 4,
 "nbformat_minor": 2
}
