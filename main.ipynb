{
 "cells": [
  {
   "cell_type": "code",
   "execution_count": null,
   "metadata": {},
   "outputs": [],
   "source": [
    "!pip install langchain_community\n",
    "!pip install langchain\n",
    "!pip install langchain-mistralai\n",
    "!pip install python-dotenv\n",
    "!pip install requests"
   ]
  },
  {
   "cell_type": "code",
   "execution_count": 11,
   "metadata": {},
   "outputs": [
    {
     "data": {
      "text/plain": [
       "<module 'mosaic_llm.mosaicllm' from 'c:\\\\Users\\\\elba_ro\\\\Documents\\\\projects\\\\github\\\\MOSAIC-LLM\\\\mosaic_llm\\\\mosaicllm.py'>"
      ]
     },
     "execution_count": 11,
     "metadata": {},
     "output_type": "execute_result"
    }
   ],
   "source": [
    "from  mosaic_llm.mosaicllm import MosaicLLM\n",
    "import mosaic_llm\n",
    "import importlib\n",
    "importlib.reload(mosaic_llm.mosaicllm)"
   ]
  },
  {
   "cell_type": "code",
   "execution_count": 12,
   "metadata": {},
   "outputs": [],
   "source": [
    "mosaicllm = MosaicLLM(root=\"\")"
   ]
  },
  {
   "cell_type": "code",
   "execution_count": 13,
   "metadata": {},
   "outputs": [
    {
     "name": "stdout",
     "output_type": "stream",
     "text": [
      "HTTP error occurred: 500 Server Error: Server Error for url: https://qnode.eu/ows/mosaic/service/search?q=%5B'what',%20'is',%20'climate'%5D\n",
      "HTTP error occurred: 500 Server Error: Server Error for url: https://qnode.eu/ows/mosaic/service/search?q=%5B'define',%20'climate'%5D\n",
      "HTTP error occurred: 500 Server Error: Server Error for url: https://qnode.eu/ows/mosaic/service/search?q=%5B'climate',%20'vs',%20'weather'%5D\n",
      "HTTP error occurred: 500 Server Error: Server Error for url: https://qnode.eu/ows/mosaic/service/search?q=%5B'factors',%20'affecting',%20'climate'%5D\n"
     ]
    }
   ],
   "source": [
    "mosaicllm.run(query=\"climate\")"
   ]
  },
  {
   "cell_type": "code",
   "execution_count": null,
   "metadata": {},
   "outputs": [],
   "source": []
  }
 ],
 "metadata": {
  "kernelspec": {
   "display_name": "Python 3",
   "language": "python",
   "name": "python3"
  },
  "language_info": {
   "codemirror_mode": {
    "name": "ipython",
    "version": 3
   },
   "file_extension": ".py",
   "mimetype": "text/x-python",
   "name": "python",
   "nbconvert_exporter": "python",
   "pygments_lexer": "ipython3",
   "version": "3.11.2"
  }
 },
 "nbformat": 4,
 "nbformat_minor": 2
}
