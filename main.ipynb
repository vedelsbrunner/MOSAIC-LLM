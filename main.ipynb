{
 "cells": [
  {
   "cell_type": "code",
   "execution_count": null,
   "metadata": {
    "ExecuteTime": {
     "end_time": "2024-05-24T12:37:10.062449Z",
     "start_time": "2024-05-24T12:36:50.168816Z"
    }
   },
   "outputs": [],
   "source": [
    "# !pip install langchain_community\n",
    "# !pip install langchain\n",
    "# !pip install langchain-mistralai\n",
    "# !pip install python-dotenv\n",
    "# !pip install requests"
   ]
  },
  {
   "cell_type": "code",
   "execution_count": 1,
   "metadata": {
    "ExecuteTime": {
     "end_time": "2024-05-24T12:44:39.696842Z",
     "start_time": "2024-05-24T12:44:39.657246Z"
    }
   },
   "outputs": [
    {
     "data": {
      "text/plain": [
       "<module 'mosaic_llm.mosaicllm' from 'c:\\\\Users\\\\elba_ro\\\\Documents\\\\projects\\\\github\\\\MOSAIC-LLM\\\\mosaic_llm\\\\mosaicllm.py'>"
      ]
     },
     "execution_count": 1,
     "metadata": {},
     "output_type": "execute_result"
    }
   ],
   "source": [
    "from  mosaic_llm.mosaicllm import MosaicLLM\n",
    "import mosaic_llm\n",
    "import importlib\n",
    "importlib.reload(mosaic_llm.mosaicllm)"
   ]
  },
  {
   "cell_type": "code",
   "execution_count": 2,
   "metadata": {
    "ExecuteTime": {
     "end_time": "2024-05-24T12:44:41.713861Z",
     "start_time": "2024-05-24T12:44:41.631257Z"
    }
   },
   "outputs": [],
   "source": [
    "mosaicllm = MosaicLLM(root=\"\")"
   ]
  },
  {
   "cell_type": "code",
   "execution_count": 3,
   "metadata": {
    "jupyter": {
     "is_executing": true
    }
   },
   "outputs": [
    {
     "data": {
      "text/plain": [
       "{'rationale': 'The original query is extremely broad, so I will refine it to focus on general climate information, and create sub-queries that could help answer this query in a more detailed way.',\n",
       " 'clarified_query': 'general climate information',\n",
       " 'subqueries': ['current world climate',\n",
       "  'climate change effects',\n",
       "  'climate types around the world'],\n",
       " 'prompt_query_summary': 'Human: ### INSTRUCTIONS\\n\\nWe will provide you with a search query and a list of the result snippets. \\n\\nYour task is to Summarize the result snippets in one paragraph, FOCUSING on \"climate\"\\n\\n### OUTPUT\\n\\nOutput only your SUMMARY without leading or trailing sentences and without any explanation.\\n\\n# INPUT \\n\\nFOCUS: climate\\n\\nList of Text snippets to summarize:\\n\\n- Palaeoclimatology (or paleoclimatology) is the study of changes in climate over the entire history of Earth. Modern interest in climate change has caused a great increase in the climates of the past.-The term red beds usually refers to strata of reddish-colored sedimentary rocks such as sandstone, siltstone or shale that were deposited in hot climates under oxidizing conditions. They are usually formed in terrestrial situations: on land, and in rivers and lakes.-The snowshoe hare is Lepus americanus, found in North America. It is a kind of hare adapted to cold climates.-Ginseng refers to species within Panax, a genus of species of slow-growing perennial plants with fleshy roots, in the family Araliaceae. They grow in the Northern Hemisphere in eastern Asia (mostly northern China, Korea, and eastern Siberia), typically in cooler climates; Panax vietnamensis, discovered in Vietnam, is the southernmost ginseng found.-Agavaceae is a family of plants. Many of these plants grow in dry, hot climates.\\n',\n",
       " 'summary_query': \"Palaeoclimatology is the study of Earth's climate history, with recent interest driven by modern climate change. Certain geological formations, such as red beds, provide evidence of past hot and oxidizing climates, typically formed in terrestrial environments. Animal and plant life also adapt to specific climates, such as the snowshoe hare in cold North American regions and ginseng species in cooler northern hemispheric areas, including northern China, Korea, and eastern Siberia. Agavaceae plants are another example, predominantly growing in dry and hot climates.\",\n",
       " 'prompt_clarified_query_summary': 'Human: ### INSTRUCTIONS\\n\\nWe will provide you with a search query and a list of the result snippets. \\n\\nYour task is to Summarize the result snippets in one paragraph, FOCUSING on \"general climate information\"\\n\\n### OUTPUT\\n\\nOutput only your SUMMARY without leading or trailing sentences and without any explanation.\\n\\n# INPUT \\n\\nFOCUS: general climate information\\n\\nList of Text snippets to summarize:\\n\\n- Scotland has an oceanic climate and a highland climate.-Desert climate or Arid climate (in the Köppen climate classification: BWh \"hot desert climate\" and BWk \"cold desert climate\") is a type of climate where precipitation is generally less than a year.Nathaniel Harris, Atlas of the World\\'s Deserts (New York: Fitzroy Dearborn, 2005), p.-Climate change is the climate of Earth changing. The Earth\\'s climate has been much hotter and colder than it is today.-https://simple.wikipedia.org/wiki/Climate_of_Denmark-A tropical rainforest climate or equatorial climate is a tropical climate subtype found in the tropics, usually within 10 to 15 degrees latitude of the equator. This climate type is designated Af in the Köppen climate classification.\\n',\n",
       " 'summary_clarified_query': \"Scotland experiences an oceanic and highland climate, while deserts have a hot or cold desert climate (BWh and BWk respectively, in the Köppen climate classification) with minimal annual precipitation. Denmark's climate is not specified, but global climate changes have resulted in the Earth's climate being hotter and colder than it is today. A tropical rainforest or equatorial climate (designated Af in the Köppen climate classification) is a tropical subtype found near the equator, characterized by abundant rainfall.\",\n",
       " 'prompt_subqueries': 'Human: ### INSTRUCTIONS\\n\\nWe will provide you with a search query and a list of the result snippets. \\n\\nYour task is to Summarize the result snippets in one paragraph, FOCUSING on \"current world climate, climate change effects, climate types around the world\"\\n\\n### OUTPUT\\n\\nOutput only your SUMMARY without leading or trailing sentences and without any explanation.\\n\\n# INPUT \\n\\nFOCUS: current world climate, climate change effects, climate types around the world\\n\\nList of Text snippets to summarize:\\n\\n- https://simple.wikipedia.org/wiki/Current-https://simple.wikipedia.org/wiki/Industrial_Workers_of_the_World-World Wrestling Entertainment, Inc., doing business as WWE, is a big company that produces professional wrestling shows.-https://simple.wikipedia.org/wiki/Humboldt_Current-This page lists the national rulers in the world. They are heads of state and heads of government.-Climate change is the climate of Earth changing. The Earth\\'s climate has been much hotter and colder than it is today.-Glossary of climate change is a list of terms commonly used in climate change. These terms will be followed by their definitions-The United Kingdom Climate Change Programme (UKCCP) is an organisation made in 2000. It changes the way Britain looks at global warming and climate change.-The Department of Energy & Climate Change (DECC) was a British government department. It was created to make sure the UK has secure, clean, affordable energy supplies and promote international action to mitigate climate change.-The United Nations Framework Convention on Climate Change is an international treaty, that was signed on 9 May 1993 and entered into force on 21 March 1994. It wants to slow the speed at which the climate of the earth changes.-Climate change is the climate of Earth changing. The Earth\\'s climate has been much hotter and colder than it is today.-The Climate of Nigeria is mostly tropical. Nigeria has four climate types, two seasons and an average temperature between 24\\xa0°C and 30\\xa0°C.-A tropical rainforest climate or equatorial climate is a tropical climate subtype found in the tropics, usually within 10 to 15 degrees latitude of the equator. This climate type is designated Af in the Köppen climate classification.-https://simple.wikipedia.org/wiki/Climate_of_the_Netherlands-Desert climate or Arid climate (in the Köppen climate classification: BWh \"hot desert climate\" and BWk \"cold desert climate\") is a type of climate where precipitation is generally less than a year.Nathaniel Harris, Atlas of the World\\'s Deserts (New York: Fitzroy Dearborn, 2005), p.\\n',\n",
       " 'summary_subqueries': \"The current world climate is characterized by climate change, which involves the Earth's climate shifting from its normal state, becoming much hotter or colder than it is today. This change is influenced by various factors, including human activities that emit greenhouse gases. There are different climate types around the world, such as the tropical climate found in Nigeria, which has four climate types and two seasons, and the desert climate, which is characterized by minimal precipitation throughout the year. The Netherlands and the United Kingdom have temperate maritime climates, with cool summers and mild winters. Climate change effects include rising sea levels, extreme weather events, and negative impacts on biodiversity.\"}"
      ]
     },
     "execution_count": 3,
     "metadata": {},
     "output_type": "execute_result"
    }
   ],
   "source": []
  },
  {
   "cell_type": "code",
   "execution_count": 4,
   "metadata": {
    "ExecuteTime": {
     "end_time": "2024-05-24T12:37:23.382647Z",
     "start_time": "2024-05-24T12:37:23.369847Z"
    }
   },
   "outputs": [
    {
     "data": {
      "text/html": [
       "<div>\n",
       "<style scoped>\n",
       "    .dataframe tbody tr th:only-of-type {\n",
       "        vertical-align: middle;\n",
       "    }\n",
       "\n",
       "    .dataframe tbody tr th {\n",
       "        vertical-align: top;\n",
       "    }\n",
       "\n",
       "    .dataframe thead th {\n",
       "        text-align: right;\n",
       "    }\n",
       "</style>\n",
       "<table border=\"1\" class=\"dataframe\">\n",
       "  <thead>\n",
       "    <tr style=\"text-align: right;\">\n",
       "      <th></th>\n",
       "      <th>query</th>\n",
       "    </tr>\n",
       "  </thead>\n",
       "  <tbody>\n",
       "    <tr>\n",
       "      <th>0</th>\n",
       "      <td>Climate change</td>\n",
       "    </tr>\n",
       "    <tr>\n",
       "      <th>1</th>\n",
       "      <td>Vaccination safety</td>\n",
       "    </tr>\n",
       "    <tr>\n",
       "      <th>2</th>\n",
       "      <td>Genetically modified organisms (GMOs)</td>\n",
       "    </tr>\n",
       "    <tr>\n",
       "      <th>3</th>\n",
       "      <td>Gun control laws</td>\n",
       "    </tr>\n",
       "    <tr>\n",
       "      <th>4</th>\n",
       "      <td>Universal basic income</td>\n",
       "    </tr>\n",
       "    <tr>\n",
       "      <th>5</th>\n",
       "      <td>Privacy vs. national security</td>\n",
       "    </tr>\n",
       "    <tr>\n",
       "      <th>6</th>\n",
       "      <td>Freedom of speech</td>\n",
       "    </tr>\n",
       "    <tr>\n",
       "      <th>7</th>\n",
       "      <td>Abortion rights</td>\n",
       "    </tr>\n",
       "    <tr>\n",
       "      <th>8</th>\n",
       "      <td>Artificial intelligence ethics</td>\n",
       "    </tr>\n",
       "    <tr>\n",
       "      <th>9</th>\n",
       "      <td>Capital punishment</td>\n",
       "    </tr>\n",
       "    <tr>\n",
       "      <th>10</th>\n",
       "      <td>Animal testing ethics</td>\n",
       "    </tr>\n",
       "    <tr>\n",
       "      <th>11</th>\n",
       "      <td>Immigration policies</td>\n",
       "    </tr>\n",
       "    <tr>\n",
       "      <th>12</th>\n",
       "      <td>Legalization of marijuana</td>\n",
       "    </tr>\n",
       "    <tr>\n",
       "      <th>13</th>\n",
       "      <td>Media bias in news reporting</td>\n",
       "    </tr>\n",
       "    <tr>\n",
       "      <th>14</th>\n",
       "      <td>Corporate tax loopholes</td>\n",
       "    </tr>\n",
       "    <tr>\n",
       "      <th>15</th>\n",
       "      <td>Renewable energy vs. fossil fuels</td>\n",
       "    </tr>\n",
       "    <tr>\n",
       "      <th>16</th>\n",
       "      <td>The impact of social media on society</td>\n",
       "    </tr>\n",
       "    <tr>\n",
       "      <th>17</th>\n",
       "      <td>Police use of force</td>\n",
       "    </tr>\n",
       "    <tr>\n",
       "      <th>18</th>\n",
       "      <td>Censorship in art and literature</td>\n",
       "    </tr>\n",
       "    <tr>\n",
       "      <th>19</th>\n",
       "      <td>Apple</td>\n",
       "    </tr>\n",
       "    <tr>\n",
       "      <th>20</th>\n",
       "      <td>Amazon</td>\n",
       "    </tr>\n",
       "    <tr>\n",
       "      <th>21</th>\n",
       "      <td>Death Penality</td>\n",
       "    </tr>\n",
       "  </tbody>\n",
       "</table>\n",
       "</div>"
      ],
      "text/plain": [
       "                                    query\n",
       "0                          Climate change\n",
       "1                      Vaccination safety\n",
       "2   Genetically modified organisms (GMOs)\n",
       "3                        Gun control laws\n",
       "4                  Universal basic income\n",
       "5           Privacy vs. national security\n",
       "6                       Freedom of speech\n",
       "7                         Abortion rights\n",
       "8          Artificial intelligence ethics\n",
       "9                      Capital punishment\n",
       "10                  Animal testing ethics\n",
       "11                   Immigration policies\n",
       "12              Legalization of marijuana\n",
       "13           Media bias in news reporting\n",
       "14                Corporate tax loopholes\n",
       "15      Renewable energy vs. fossil fuels\n",
       "16  The impact of social media on society\n",
       "17                    Police use of force\n",
       "18       Censorship in art and literature\n",
       "19                                  Apple\n",
       "20                                 Amazon\n",
       "21                         Death Penality"
      ]
     },
     "execution_count": 4,
     "metadata": {},
     "output_type": "execute_result"
    }
   ],
   "source": [
    "import pandas as pd\n",
    "queries = pd.read_csv(\"data/queries.csv\")\n",
    "all_results = []\n",
    "for _, row in queries.iterrows():\n",
    "    result = {}\n",
    "    \n",
    "    q = row[\"query\"]\n",
    "    result[\"query\"] = q\n",
    "    print(f\"querying {q}\")\n",
    "    result = mosaicllm.run(query=q)\n",
    "    all_results.append(result)"
   ]
  },
  {
   "cell_type": "code",
   "execution_count": null,
   "metadata": {},
   "outputs": [],
   "source": []
  }
 ],
 "metadata": {
  "kernelspec": {
   "display_name": "Python 3",
   "language": "python",
   "name": "python3"
  },
  "language_info": {
   "codemirror_mode": {
    "name": "ipython",
    "version": 3
   },
   "file_extension": ".py",
   "mimetype": "text/x-python",
   "name": "python",
   "nbconvert_exporter": "python",
   "pygments_lexer": "ipython3",
   "version": "3.11.2"
  }
 },
 "nbformat": 4,
 "nbformat_minor": 2
}
